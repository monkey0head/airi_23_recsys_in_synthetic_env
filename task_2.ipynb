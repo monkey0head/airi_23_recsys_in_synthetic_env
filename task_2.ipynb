{
 "cells": [
  {
   "cell_type": "code",
   "execution_count": 1,
   "id": "d2cf706f-61f6-40cf-948b-68839b2c287e",
   "metadata": {
    "cellId": "huydgn44hwaihflq1o7s"
   },
   "outputs": [],
   "source": [
    "%load_ext autoreload\n",
    "%autoreload 2"
   ]
  },
  {
   "cell_type": "markdown",
   "id": "d213fb6c-9c01-4343-ba68-46e8845925f5",
   "metadata": {
    "cellId": "2smaapc5z0t1i5825114lf",
    "execution_id": "1877baff-0309-4c5d-9b01-1d0149ef652c"
   },
   "source": [
    "## Обучение рекомендательной системы для симулированных пользователей"
   ]
  },
  {
   "cell_type": "markdown",
   "id": "15a48ec8",
   "metadata": {
    "cellId": "2v2pzwbofwczz4csnmcv8",
    "execution_id": "0b42902a-76ec-465b-b931-8986dd600557"
   },
   "source": [
    "Вы разработчик рекомендательной системы в онлайн-кинотеатре \"Поиск фильмов\". У вас есть десять фильмов, и при входе на сайт кинотеатра вы предлагаете пользователю один из них. Если пользователь увидит на баннере фильм, который ему нравится, он с большой вероятностью на него кликнет (оставит положительный отклик на рекомендацию). Мы изучили какой контекст всего влияет на предпочтения пользователей и собрали самые важные признаки. У нас есть по 4 признака по каждому товару (фильму) и пользователю. Вам нужно обучить рекомендательную модель, максимизирующую количество кликов по баннерам. У вас нет исторических данных, но доступен симулятор, генерирующий отклики пользователей на рекомендации, который поможет получить данные в интерактивном режиме.\n",
    "\n",
    "\n",
    "### Пользователи\n",
    "3000 анонимных пользователей\n",
    "\n",
    "### Товары\n",
    "10 фильмов\n",
    "\n",
    "### Задача\n",
    "Построить контекстуальную рекомендательную модель, которая даст наибольшее количество кликов\n",
    "\n",
    "### Доступные данные\n",
    "Пользователи будут реагировать на ваши рекомендации в интерактивном режиме. Вы получаете список пользователей, для каждого из которых нужно подготовить по 1 рекомендации. Модель отклика симулятора генерирует отклики на рекомендации, которые вы можете использовать для обучения рекомендательной системы. Мы не \"прячем\" от вас модель отклика, но просим не использовать ее и ее данные, в своем решении. В данной задаче вы обладаете дополнительной информацией о пользователях и товарах."
   ]
  },
  {
   "cell_type": "markdown",
   "id": "24b7991d-ff52-4fcc-82db-78f8e388d9fb",
   "metadata": {
    "cellId": "clgbov6mhobo4qiiwnywgn",
    "execution_id": "0ef1e4af-a385-4203-be3b-13276e168c9f"
   },
   "source": [
    "## Симулятор\n",
    "Симулятор Sim4Rec разработан Сбером для моделирования взаимодействия пользователей с рекомендательными системами. Ниже представлена схема цикла симуляции для обучения и тестирования рекомендательных систем в нашем симуляторе."
   ]
  },
  {
   "cell_type": "markdown",
   "id": "818f4033",
   "metadata": {},
   "source": [
    "<img src=\"./images/simulation_cycle.png\">"
   ]
  },
  {
   "cell_type": "markdown",
   "id": "0edd9e8d",
   "metadata": {},
   "source": [
    "Для симуляции могут использоваться реальные и синтетические профили (признаки/фичи) пользователей (users) и товаров (items).\n",
    "Использование синтетических данных позволяет сохранить приватность реальных клиентов и смоделировать более разнообразные ситуации (например, сгененрировать больше пользователей из какой-то группы/кластера).\n",
    "\n",
    "(1) После генерации популяции товаров и пользователей можно запускать цикл симуляции.\n",
    "На первом этапе мы выбираем пользователей, который будут взаимодействовать с рекомендательной системой на данной итерации. Это могут быть все пользователи или какая-то их часть.\n",
    "\n",
    "(2) Затем мы можем выбрать товары, которые будут доступны для пользователей. В базовом варианте, который и будет реализован в наших заданиях, все товары доступны для всех пользователей. Но в реальной жизни какие-то товары могут отсутствовать, могут быть недоступны пользователям из-за ограничений, или же наоборот, мы может формировать персональные предложения для пользователей на этом этапе. \n",
    "\n",
    "(3) Следом начинается работа рекомендательная система, которая генерирует для пользователей рекомендуемые товары. Мы будем рассматривать задачу генерации top-k наиболее релевантных товаров для пользователя.\n",
    "\n",
    "(4) Рекомендации возвращаются в симулятор, который генерируют отклик пользователей на увиденные рекомендации. Это могут быть лайки, добавление в избранное, факт покупки, время просмотра. В реальной задаче пользователь может давать отклики разных типов, мы будем рассматривать только один тип отклика (например, покупку).\n",
    "\n",
    "(5) Рекомендательная система обновляется с учетом информации об откликах, полученных на текущей итерации цикла симуляции.\n",
    "\n",
    "Ваша задача - написать алгоритм рекомендательной системы, который даст наибольшее количество положительных откликов на пользователя. Алгоримтм будет обучаться в цикле симуляции N итераций, а на N + 1 итерации будет оцениваться качество рекомендаций в метрике Precision@K (среднее число кликов из top-K рекомендаций у пользователя)."
   ]
  },
  {
   "cell_type": "markdown",
   "id": "3bf128aa-7d5c-40e5-9543-660825fa7a24",
   "metadata": {},
   "source": [
    "## Импорты и настройки"
   ]
  },
  {
   "cell_type": "code",
   "execution_count": 2,
   "id": "1f9e6a59-2ab9-4cba-b188-59a96ca63289",
   "metadata": {
    "tags": []
   },
   "outputs": [],
   "source": [
    "import os\n",
    "import sys\n",
    "os.environ[\"PYSPARK_PYTHON\"]=sys.executable\n",
    "os.environ[\"PYSPARK_DRIVER_PYTHON\"]=sys.executable"
   ]
  },
  {
   "cell_type": "code",
   "execution_count": 3,
   "id": "481282a5",
   "metadata": {},
   "outputs": [
    {
     "name": "stderr",
     "output_type": "stream",
     "text": [
      "/home/alexgrish/miniconda3/envs/sim4rec/lib/python3.9/site-packages/tqdm/auto.py:21: TqdmWarning: IProgress not found. Please update jupyter and ipywidgets. See https://ipywidgets.readthedocs.io/en/stable/user_install.html\n",
      "  from .autonotebook import tqdm as notebook_tqdm\n"
     ]
    }
   ],
   "source": [
    "import time\n",
    "\n",
    "import numpy as np\n",
    "import pandas as pd\n",
    "import pyspark.sql.functions as sf\n",
    "from pyspark.sql import SparkSession\n",
    "\n",
    "from replay.models import UCB\n",
    "from replay.session_handler import State\n",
    "from replay.utils import convert2spark\n",
    "\n",
    "# укажите путь к tmp-папке spark и директории с чекпоинтами симулятора.\n",
    "SPARK_LOCAL_DIR = './tmp/task_2'\n",
    "CHECKPOINTS_DIR = './tmp/task_2_checkpoints'"
   ]
  },
  {
   "cell_type": "code",
   "execution_count": 4,
   "id": "6ef7bfd9",
   "metadata": {},
   "outputs": [],
   "source": [
    "from sim4rec.modules import Simulator, RealDataGenerator\n",
    "\n",
    "from response_models.task_2_context import TaskTwoResponse\n",
    "from utils import plot_metric, calc_metric"
   ]
  },
  {
   "cell_type": "code",
   "execution_count": 5,
   "id": "b77f6a7a",
   "metadata": {
    "cellId": "sa91beayd9hjlowc74umzo",
    "code_folding": [],
    "scrolled": true
   },
   "outputs": [
    {
     "name": "stderr",
     "output_type": "stream",
     "text": [
      "23/07/16 23:50:14 WARN Utils: Your hostname, trans4rec resolves to a loopback address: 127.0.1.1; using 192.168.1.13 instead (on interface ens160)\n",
      "23/07/16 23:50:14 WARN Utils: Set SPARK_LOCAL_IP if you need to bind to another address\n",
      "23/07/16 23:50:15 WARN NativeCodeLoader: Unable to load native-hadoop library for your platform... using builtin-java classes where applicable\n",
      "Using Spark's default log4j profile: org/apache/spark/log4j-defaults.properties\n",
      "Setting default log level to \"WARN\".\n",
      "To adjust logging level use sc.setLogLevel(newLevel). For SparkR, use setLogLevel(newLevel).\n",
      "23/07/16 23:50:15 WARN SparkConf: Note that spark.local.dir will be overridden by the value set by the cluster manager (via SPARK_LOCAL_DIRS in mesos/standalone/kubernetes and LOCAL_DIRS in YARN).\n",
      "23/07/16 23:50:16 WARN Utils: Service 'SparkUI' could not bind on port 4040. Attempting port 4041.\n",
      "23/07/16 23:50:16 WARN Utils: Service 'SparkUI' could not bind on port 4041. Attempting port 4042.\n",
      "23/07/16 23:50:16 WARN Utils: Service 'SparkUI' could not bind on port 4042. Attempting port 4043.\n",
      "23/07/16 23:50:16 WARN Utils: Service 'SparkUI' could not bind on port 4043. Attempting port 4044.\n",
      "23/07/16 23:50:16 WARN Utils: Service 'SparkUI' could not bind on port 4044. Attempting port 4045.\n",
      "23/07/16 23:50:16 WARN Utils: Service 'SparkUI' could not bind on port 4045. Attempting port 4046.\n",
      "23/07/16 23:50:16 WARN Utils: Service 'SparkUI' could not bind on port 4046. Attempting port 4047.\n",
      "23/07/16 23:50:16 WARN Utils: Service 'SparkUI' could not bind on port 4047. Attempting port 4048.\n"
     ]
    }
   ],
   "source": [
    "# если вы не работали со Spark ранее, оставьте настройки сессии неизменными\n",
    "NUM_THREADS = 4\n",
    "\n",
    "spark = SparkSession.builder\\\n",
    "    .appName('simulator')\\\n",
    "    .master(f'local[{NUM_THREADS}]')\\\n",
    "    .config('spark.sql.shuffle.partitions', f'{NUM_THREADS * 3}')\\\n",
    "    .config('spark.default.parallelism', f'{NUM_THREADS * 3}')\\\n",
    "    .config('spark.driver.extraJavaOptions', '-XX:+UseG1GC')\\\n",
    "    .config('spark.executor.extraJavaOptions', '-XX:+UseG1GC')\\\n",
    "    .config('spark.local.dir', SPARK_LOCAL_DIR)\\\n",
    "    .getOrCreate()\n",
    "State(spark)\n",
    "spark.sparkContext.setLogLevel(\"ERROR\");"
   ]
  },
  {
   "cell_type": "code",
   "execution_count": 6,
   "id": "2fd76e88",
   "metadata": {},
   "outputs": [],
   "source": [
    "NUM_ITEMS = 10\n",
    "NUM_USERS = 3000\n",
    "# число рекомендаций, генерируемых рекомендательной системой на пользователя на одной итерации\n",
    "K = 1\n",
    "# количество итераций\n",
    "NUM_ITER = 20\n",
    "SEED = 1234"
   ]
  },
  {
   "cell_type": "markdown",
   "id": "83211cba-f60f-47b2-8103-204ac672e1cc",
   "metadata": {
    "cellId": "ffl9l89trncxzwbk5zq7gn",
    "execution_id": "ac55437a-5d87-45a8-b860-a28fb0526c6d"
   },
   "source": [
    "## Исходные данные"
   ]
  },
  {
   "cell_type": "markdown",
   "id": "91c3f568-3855-41eb-970e-4e5edae93dce",
   "metadata": {
    "cellId": "v3vr0zvzup8v5pgz5d2av8",
    "execution_id": "b4091cdb-7f7c-4d22-a619-3b9ec21523d8"
   },
   "source": [
    "В нашем распоряжении есть id пользователей и товаров."
   ]
  },
  {
   "cell_type": "code",
   "execution_count": 7,
   "id": "856c1945",
   "metadata": {},
   "outputs": [],
   "source": [
    "users_df = pd.read_parquet('response_models/data/users_context.parquet')\n",
    "items_df = pd.read_parquet('response_models/data/items_context.parquet')"
   ]
  },
  {
   "cell_type": "markdown",
   "id": "a636b0e5",
   "metadata": {},
   "source": [
    "Создадим словарь `inv_label_encoding_dict`, который далее может быть полезен для контекстуальной модели."
   ]
  },
  {
   "cell_type": "code",
   "execution_count": 8,
   "id": "ae099cd2",
   "metadata": {},
   "outputs": [],
   "source": [
    "label_encoding_dict = dict(zip(items_df['item_idx'], range(10)))\n",
    "inv_label_encoding_dict = {value: key for key, value in label_encoding_dict.items()}"
   ]
  },
  {
   "cell_type": "code",
   "execution_count": 9,
   "id": "06e64824",
   "metadata": {},
   "outputs": [],
   "source": [
    "users = convert2spark(users_df)\n",
    "items = convert2spark(items_df)"
   ]
  },
  {
   "cell_type": "markdown",
   "id": "ea1f1d31",
   "metadata": {},
   "source": [
    "Симулятор позволяет использовать реальные данные о пользователях и товарах (фичи) и синтетические (сгенерированные на основе реальных). В этой задаче в нашем распоряжении есть только id пользователей и товаров, генерация синтетических данных в этой задаче не актуальна. Поэтому мы будем использовать реальные данные и сэмплировать из них с использованием RealDataGenerator."
   ]
  },
  {
   "cell_type": "code",
   "execution_count": 10,
   "id": "61ac067a",
   "metadata": {},
   "outputs": [
    {
     "name": "stderr",
     "output_type": "stream",
     "text": [
      "                                                                                \r"
     ]
    },
    {
     "data": {
      "text/plain": [
       "DataFrame[user_idx: bigint, user_feature_0: double, user_feature_1: double, user_feature_2: double, user_feature_3: double]"
      ]
     },
     "execution_count": 10,
     "metadata": {},
     "output_type": "execute_result"
    }
   ],
   "source": [
    "item_generator = RealDataGenerator(label='items_real', seed=SEED)\n",
    "user_generator = RealDataGenerator(label='users_real', seed=SEED)\n",
    "\n",
    "# передадим популяции пользователей и айтемов\n",
    "item_generator.fit(items)\n",
    "user_generator.fit(users)\n",
    "\n",
    "# будем использовать всех пользователей и айтемы из популяции\n",
    "item_generator.generate(NUM_ITEMS)\n",
    "user_generator.generate(NUM_USERS)"
   ]
  },
  {
   "cell_type": "markdown",
   "id": "42de600a",
   "metadata": {},
   "source": [
    "# Пройдем одну итерацию цикла симуляции поэтапно"
   ]
  },
  {
   "cell_type": "markdown",
   "id": "fb4086fd",
   "metadata": {},
   "source": [
    "## (1) Выбор пользователей"
   ]
  },
  {
   "cell_type": "code",
   "execution_count": 11,
   "id": "50b2cdf5",
   "metadata": {},
   "outputs": [
    {
     "data": {
      "text/plain": [
       "305"
      ]
     },
     "execution_count": 11,
     "metadata": {},
     "output_type": "execute_result"
    }
   ],
   "source": [
    "# генератор позволяет сэмплировать выбранную долю пользователей от общего количества. \n",
    "# Из-за особенностей spark это количество не будет точным. Ниже будет выбрано около 300 пользователей.\n",
    "user_generator.sample(0.1).count()"
   ]
  },
  {
   "cell_type": "markdown",
   "id": "6469c4bf",
   "metadata": {},
   "source": [
    "## (2) Выбор товаров\n",
    "\n",
    "В цикле симуляции вам будут доступны все 10 айтемов на каждой итерации."
   ]
  },
  {
   "cell_type": "markdown",
   "id": "bc31c076",
   "metadata": {},
   "source": [
    "## (3) Инициализация рекомендательной модели"
   ]
  },
  {
   "cell_type": "markdown",
   "id": "f9c0c310",
   "metadata": {},
   "source": [
    "Ваша задача - написать код рекомендательной модели, инициализировать модель здесь и использовать в цикле обучения ниже.\n",
    "\n",
    "Модель должна принимать на вход список пользователей и товаров и возвращать для каждого пользователя top-K самых релевантных для него товаров в виде датафрейма в формате <user_idx int, item_idx int, relevance double>.\n",
    "\n",
    "Контекстуальная модель может принимать на вход и использовать дополнительную информацию: предыдущую историю взаимодействия выбранных пользователей с рекомендательной системой и признаки пользователей и айтемов.\n",
    "\n",
    "Мы предлагаем вам baseline (UCB) из нашей библиотеки RePlay.\n",
    "\n",
    "Модель UCB - неперсонализированный алгоритм, оценивающий релевантность товаров по верхней границе доверительного интервала. В момент построения рекомендаций модель сэмплирует top-K айтемов для каждого пользователя с вероятностью, пропорциональной рассчитанным релевантностям. Узнать больше об алгоритме UCB и посмотреть пример реализации можно [здесь](https://medium.com/analytics-vidhya/multi-armed-bandit-analysis-of-upper-confidence-bound-algorithm-4b84be516047)."
   ]
  },
  {
   "cell_type": "markdown",
   "id": "471064ae",
   "metadata": {},
   "source": [
    "### Baseline модель"
   ]
  },
  {
   "cell_type": "code",
   "execution_count": 12,
   "id": "5c8c7bc3",
   "metadata": {
    "cellId": "dufzi982ho5vk4eb30d45",
    "scrolled": true
   },
   "outputs": [],
   "source": [
    "model = UCB(sample=True, seed=SEED, exploration_coef=0.5)\n",
    "\n",
    "# Модель из RePlay нужно обучить на исторических данных, прежде чем можно будет обучать ее дальше в цикле \n",
    "# Обойдем это ограничение, представив, что в истории было одно взаимодействие\n",
    "model.fit(log=users.limit(1).crossJoin(items.limit(1)).withColumn(\"relevance\", sf.lit(1)))"
   ]
  },
  {
   "cell_type": "code",
   "execution_count": 13,
   "id": "d785ad4e",
   "metadata": {},
   "outputs": [
    {
     "name": "stdout",
     "output_type": "stream",
     "text": [
      "+--------+--------+---------+\n",
      "|user_idx|item_idx|relevance|\n",
      "+--------+--------+---------+\n",
      "|       1|    2959|      0.1|\n",
      "|       2|       2|      0.1|\n",
      "|       3|    1721|      0.1|\n",
      "|       4|    2706|      0.1|\n",
      "|       5|    1721|      0.1|\n",
      "|       6|    1270|      0.1|\n",
      "+--------+--------+---------+\n",
      "\n"
     ]
    }
   ],
   "source": [
    "pred = model.predict(log=None, users=users.limit(6), items=items, k=1)\n",
    "pred.show()"
   ]
  },
  {
   "cell_type": "markdown",
   "id": "12f4498e-3b75-41d7-a0a2-e7ade7e5a26b",
   "metadata": {
    "cellId": "cgqy3lu80i4yibn7o7ny9",
    "execution_id": "28e1cbb4-084e-4b14-88ef-7bc109b02abb"
   },
   "source": [
    "## (4) Модель отклика"
   ]
  },
  {
   "cell_type": "markdown",
   "id": "790caaaa-2992-4122-b6db-41ae40ad6326",
   "metadata": {
    "cellId": "7m11axprgbnc8wgrnr20km",
    "execution_id": "58d19726-5c12-4e2a-90b6-73681f8e6f7d"
   },
   "source": [
    "Модель отклика принимает датафрейм с колонками <user_idx, item_idx, relevance>, где relevance - оценка релевантности рекомендательной системы и возвращает датафрейм с обязательными колонками <user_idx, item_idx, relevance, response>, добавляя к исходным данным столбец с откликами (response). Если в датафрейме, поданном на вход в модель отклика, были признаки, они также будут возвращены."
   ]
  },
  {
   "cell_type": "code",
   "execution_count": 14,
   "id": "a016c564-01cc-4775-a9b8-fec130fcbf2e",
   "metadata": {},
   "outputs": [],
   "source": [
    "context_model = TaskTwoResponse(\n",
    "    spark, boost_df_path='response_models/data/context_items_relevance.parquet', seed=SEED\n",
    ")"
   ]
  },
  {
   "cell_type": "markdown",
   "id": "40a5e387-f004-44e3-be92-2c073e88faf3",
   "metadata": {
    "cellId": "w6ds3t0qf5l0zbfq4l9u15",
    "execution_id": "ecb7defd-980b-49a4-ba72-abbe6dec29c1"
   },
   "source": [
    "Посмотрим на примере, как формируется отклик для пары пользователь-товар"
   ]
  },
  {
   "cell_type": "code",
   "execution_count": 15,
   "id": "a7003609-25cd-48bf-884e-7e19ab7b124b",
   "metadata": {},
   "outputs": [
    {
     "name": "stderr",
     "output_type": "stream",
     "text": [
      "\r",
      "[Stage 70:>                                                         (0 + 4) / 6]\r"
     ]
    },
    {
     "name": "stdout",
     "output_type": "stream",
     "text": [
      "+--------+--------+---------+--------+\n",
      "|item_idx|user_idx|relevance|response|\n",
      "+--------+--------+---------+--------+\n",
      "|    2959|       1|      0.1|       0|\n",
      "|       2|       2|      0.1|       0|\n",
      "|    1721|       3|      0.1|       0|\n",
      "|    2706|       4|      0.1|       0|\n",
      "|    1721|       5|      0.1|       1|\n",
      "|    1270|       6|      0.1|       1|\n",
      "+--------+--------+---------+--------+\n",
      "\n"
     ]
    },
    {
     "name": "stderr",
     "output_type": "stream",
     "text": [
      "\r",
      "[Stage 70:======================================>                   (4 + 2) / 6]\r",
      "\r",
      "                                                                                \r"
     ]
    }
   ],
   "source": [
    "test_response = context_model.transform(pred)\n",
    "test_response.show()"
   ]
  },
  {
   "cell_type": "markdown",
   "id": "8713cd16",
   "metadata": {},
   "source": [
    "## (5) Дообучение рекомендательной модели\n",
    "После получения откликов на рекомендации можно дообучать рекомендательную модель. В примере выше бинарный отклик находится в колонке response, а модель принимает на вход историю взамодействия (log) в виде датафрейма со столбцами <user_idx, item_idx, relevance>. Т.е. нам нужно будет выбрать нужные столбцы из истории и переименовать repsonse в relevance. Обратите внимание, что если ваша модель использует признаки, они могут быть переданы в модель как отдельные параметры при инициализации или быть добавлены в log в виде отдельных колонок. Вы можете реализовать дообучение модели на новых данных на каждой итерации или полностью переобучать модель на всех данных, имеющихся в логе симулятора `sim.log`. Здесь будет пример с дообучением, а в цикле ниже будем использовать переобучение на всех данных."
   ]
  },
  {
   "cell_type": "code",
   "execution_count": 16,
   "id": "9e4780f3",
   "metadata": {},
   "outputs": [
    {
     "name": "stderr",
     "output_type": "stream",
     "text": [
      "[Stage 75:=========>                                                (1 + 4) / 6]\r"
     ]
    },
    {
     "name": "stdout",
     "output_type": "stream",
     "text": [
      "+--------+--------+---------+\n",
      "|item_idx|user_idx|relevance|\n",
      "+--------+--------+---------+\n",
      "|    2959|       1|        0|\n",
      "|       2|       2|        0|\n",
      "|    1721|       3|        0|\n",
      "|    2706|       4|        0|\n",
      "|    1721|       5|        1|\n",
      "|    1270|       6|        1|\n",
      "+--------+--------+---------+\n",
      "\n"
     ]
    },
    {
     "name": "stderr",
     "output_type": "stream",
     "text": [
      "\r",
      "[Stage 75:================================================>         (5 + 1) / 6]\r",
      "\r",
      "                                                                                \r"
     ]
    }
   ],
   "source": [
    "new_log = test_response.drop(\"relevance\").withColumnRenamed(\"response\", \"relevance\")\n",
    "new_log.show()"
   ]
  },
  {
   "cell_type": "code",
   "execution_count": 17,
   "id": "c679f645",
   "metadata": {},
   "outputs": [
    {
     "name": "stderr",
     "output_type": "stream",
     "text": [
      "                                                                                \r"
     ]
    }
   ],
   "source": [
    "### YOUR CODE HERE\n",
    "model.refit(log=test_response.drop(\"relevance\").withColumnRenamed(\"response\", \"relevance\"))\n",
    "###"
   ]
  },
  {
   "cell_type": "markdown",
   "id": "39253124",
   "metadata": {},
   "source": [
    "## (6) Оценка качества рекомендаций\n",
    "Оценка качества будет выполняться по среднему числу положительных откликов на пользователя."
   ]
  },
  {
   "cell_type": "code",
   "execution_count": 18,
   "id": "9c59535c",
   "metadata": {},
   "outputs": [
    {
     "name": "stderr",
     "output_type": "stream",
     "text": [
      "                                                                                \r"
     ]
    },
    {
     "data": {
      "text/plain": [
       "0.3333333333333333"
      ]
     },
     "execution_count": 18,
     "metadata": {},
     "output_type": "execute_result"
    }
   ],
   "source": [
    "calc_metric(test_response)"
   ]
  },
  {
   "cell_type": "markdown",
   "id": "f1f76796-9746-4c2e-8fc3-369d8292a57f",
   "metadata": {
    "cellId": "o0o3kq6tjrs7tuvbdikavd",
    "execution_id": "7c137458-8817-41ef-aa39-c255fe3286f6"
   },
   "source": [
    "# Обучение модели в симуляторе"
   ]
  },
  {
   "cell_type": "markdown",
   "id": "f080ffc3-b2c3-485d-aa96-c31fdbe240c3",
   "metadata": {
    "cellId": "m69ycwht2xw4zqjda67f",
    "execution_id": "d0230060-cc25-4a54-8324-239725199e9a"
   },
   "source": [
    "Перейдем непосредственно к циклу симуляции. Инициализируем симулятор и все нужные для симуляции модели. Обратите внимание, что если вы захотите перезапустить эксперимент, нужно будет выбрать другую папку для сохранения данных `data_dir` или удалить с диска результаты предыдущего эксперимента. Либо вы можете продолжить эксперимент с новой итерации (например, последней была выполнена 10 итерация, значит цикл нужно продолжить с 11-ой). \n",
    "\n",
    "Начнем с уже знакомой модели UCB, не использующей дополнительные признаки."
   ]
  },
  {
   "cell_type": "markdown",
   "id": "a49abafe",
   "metadata": {},
   "source": [
    "### Baseline (UCB)"
   ]
  },
  {
   "cell_type": "markdown",
   "id": "a611bccb",
   "metadata": {},
   "source": [
    "#### Повторно инциализируем компоненты симулятора"
   ]
  },
  {
   "cell_type": "code",
   "execution_count": 19,
   "id": "064d9918",
   "metadata": {
    "cellId": "xio7uuip4g6g3anj2xax4",
    "code_folding": [
     1
    ]
   },
   "outputs": [],
   "source": [
    "!rm -r $CHECKPOINTS_DIR\n",
    "\n",
    "user_generator.initSeedSequence(SEED)\n",
    "item_generator.initSeedSequence(SEED)\n",
    "\n",
    "sim = Simulator(\n",
    "    user_gen=user_generator,\n",
    "    item_gen=item_generator,\n",
    "    user_key_col='user_idx',\n",
    "    item_key_col='item_idx',\n",
    "    spark_session=spark,\n",
    "    data_dir=CHECKPOINTS_DIR,\n",
    ")"
   ]
  },
  {
   "cell_type": "markdown",
   "id": "33d82e7e",
   "metadata": {},
   "source": [
    "#### Инициализация вашей рекомендательной модели"
   ]
  },
  {
   "cell_type": "code",
   "execution_count": 20,
   "id": "9de6eae5",
   "metadata": {},
   "outputs": [],
   "source": [
    "model = UCB(sample=True, seed=SEED, exploration_coef=0.1)\n",
    "# Модель из RePlay нужно обучить на исторических данных, прежде чем можно будет обучать ее дальше в цикле \n",
    "# Обойдем это ограничение, представив, что в истории было одно взаимодействие\n",
    "model.fit(log=users.limit(1).crossJoin(items.limit(1)).withColumn(\"relevance\", sf.lit(1)))"
   ]
  },
  {
   "cell_type": "markdown",
   "id": "204b4d1d",
   "metadata": {},
   "source": [
    "#### Инициализация функции отклика"
   ]
  },
  {
   "cell_type": "code",
   "execution_count": 21,
   "id": "3c2d3935",
   "metadata": {},
   "outputs": [],
   "source": [
    "context_model = TaskTwoResponse(\n",
    "    spark, boost_df_path='response_models/data/context_items_relevance.parquet', seed=SEED\n",
    ")"
   ]
  },
  {
   "cell_type": "markdown",
   "id": "bebcecd9",
   "metadata": {},
   "source": [
    "#### Цикл симуляции"
   ]
  },
  {
   "cell_type": "code",
   "execution_count": 22,
   "id": "13b47e9c",
   "metadata": {},
   "outputs": [],
   "source": [
    "# # если вы запустили цикл симуляции и остановили его до окончания выполнения, выполните unpersist датафреймов\n",
    "# current_users.unpersist()\n",
    "# if log is not None:\n",
    "#     log.unpersist()\n",
    "# recs.unpersist()\n",
    "# true_resp.unpersist()\n",
    "# train_log.unpersist()"
   ]
  },
  {
   "cell_type": "code",
   "execution_count": 23,
   "id": "0ed08b33",
   "metadata": {
    "code_folding": [
     1,
     11,
     19,
     29,
     45
    ],
    "scrolled": true
   },
   "outputs": [
    {
     "data": {
      "image/png": "[encoded data removed]",
      "text/plain": [
       "<Figure size 640x480 with 1 Axes>"
      ]
     },
     "metadata": {},
     "output_type": "display_data"
    },
    {
     "name": "stdout",
     "output_type": "stream",
     "text": [
      "Iteration 19 finished in 9.49141526222229 sec.\n"
     ]
    }
   ],
   "source": [
    "metrics = []\n",
    "for i in range(NUM_ITER):\n",
    "    print(f'Iteration {i} started')\n",
    "    iter_time = time.time()\n",
    "    # выбираем пользователей, которые делают покупки на данной итерации\n",
    "    current_users = sim.sample_users(0.1).cache()\n",
    "    # получаем историю их взаимодействия с симулятором в прошлом\n",
    "    log = sim.get_log(current_users)\n",
    "    \n",
    "\n",
    "    ### YOUR CODE HERE: порекомендуйте top-K товаров для каждого пользователя из current_users\n",
    "    recs = model.predict(\n",
    "       log=log,\n",
    "       k=K,\n",
    "       users=current_users.select(\"user_idx\"),\n",
    "       items=items,\n",
    "       filter_seen_items=False\n",
    "    )\n",
    "\n",
    "    assert (recs\n",
    "            .groupBy('user_idx')\n",
    "            .agg(sf.count(\"item_idx\").alias(\"num_items\"))\n",
    "            .filter(sf.col(\"num_items\") == sf.lit(K))\n",
    "            .count() \n",
    "            == \n",
    "            current_users.count()\n",
    "           )\n",
    "\n",
    "    # получаем отклики на рекомендации\n",
    "    true_resp = sim.sample_responses(\n",
    "        recs_df=recs,\n",
    "        user_features=current_users,\n",
    "        item_features=items,\n",
    "        action_models=context_model,\n",
    "    ).select('user_idx', 'item_idx', 'relevance', 'response').cache()\n",
    "\n",
    "    # записываем историю взаимодействия пользователей с рекомендательной системой на этой итерации\n",
    "    sim.update_log(true_resp, iteration=i)\n",
    "    \n",
    "    # оцениваем качество\n",
    "    metrics.append(calc_metric(true_resp))\n",
    "\n",
    "    ### YOUR CODE HERE: дообучите рекомендательную модель на новых данных\n",
    "    model._clear_cache()\n",
    "    train_log = sim.log.cache()\n",
    "    model.fit(\n",
    "        log=\n",
    "            train_log.select('user_idx', 'item_idx', 'response')\\\n",
    "                     .withColumnRenamed('response', 'relevance')\n",
    "    )\n",
    "    ###\n",
    "\n",
    "    current_users.unpersist()\n",
    "    if log is not None:\n",
    "        log.unpersist()\n",
    "    recs.unpersist()\n",
    "    true_resp.unpersist()\n",
    "    train_log.unpersist()\n",
    "    \n",
    "    plot_metric(metrics)\n",
    "    print(f'Iteration {i} finished in {time.time() - iter_time} sec.')"
   ]
  },
  {
   "cell_type": "markdown",
   "id": "6ce248a3",
   "metadata": {},
   "source": [
    "### LinUCB"
   ]
  },
  {
   "cell_type": "markdown",
   "id": "74d47ac7",
   "metadata": {},
   "source": [
    "Вам доступна заготовка для контекстуальной модели LinUCB. В данном варианте (disjoint LinUCB) считается что параметры функции отклика уникальны для каждого фильма. Узнать больше можно в [оригинальной статье](https://arxiv.org/pdf/1003.0146.pdf) и [блоге](https://kfoofw.github.io/contextual-bandits-linear-ucb-disjoint)"
   ]
  },
  {
   "cell_type": "markdown",
   "id": "72f24d0a",
   "metadata": {},
   "source": [
    "#### Повторно инциализируем компоненты симулятора"
   ]
  },
  {
   "cell_type": "code",
   "execution_count": null,
   "id": "56c443eb",
   "metadata": {},
   "outputs": [],
   "source": [
    "!rm -r $CHECKPOINTS_DIR\n",
    "\n",
    "user_generator.initSeedSequence(SEED)\n",
    "item_generator.initSeedSequence(SEED)\n",
    "\n",
    "sim = Simulator(\n",
    "    user_gen=user_generator,\n",
    "    item_gen=item_generator,\n",
    "    user_key_col='user_idx',\n",
    "    item_key_col='item_idx',\n",
    "    spark_session=spark,\n",
    "    data_dir=CHECKPOINTS_DIR,\n",
    ")"
   ]
  },
  {
   "cell_type": "markdown",
   "id": "ce103ea3",
   "metadata": {},
   "source": [
    "#### Инициализация вашей рекомендательной модели"
   ]
  },
  {
   "cell_type": "markdown",
   "id": "eca34739",
   "metadata": {},
   "source": [
    "<img src=\"images/LinUCB.png\" width=500>"
   ]
  },
  {
   "cell_type": "code",
   "execution_count": null,
   "id": "ec7f5a70",
   "metadata": {},
   "outputs": [],
   "source": [
    "class Arm():\n",
    "    def __init__(self, alpha, d):\n",
    "        self.alpha = alpha\n",
    "        self.A = np.identity(d)\n",
    "        self.b = np.ones(d)\n",
    "\n",
    "    def fit_prob(self, x):\n",
    "        ### YOUR CODE HERE\n",
    "        raise NotImplementedError\n",
    "        ###\n",
    "\n",
    "    def update_arm(self, r, x):\n",
    "        ### YOUR CODE HERE\n",
    "        raise NotImplementedError\n",
    "        ###\n",
    "\n",
    "\n",
    "class DisjointLinUCB():\n",
    "    def __init__(self, items, alpha, d=4, num_arms=10):\n",
    "        self.num_arms = num_arms\n",
    "        self.arms = [Arm(alpha=alpha, d=d) for j in range(num_arms)]\n",
    "\n",
    "    def predict(self, x):\n",
    "        ### YOUR CODE HERE\n",
    "        raise NotImplementedError\n",
    "        ###"
   ]
  },
  {
   "cell_type": "code",
   "execution_count": null,
   "id": "88d97778",
   "metadata": {},
   "outputs": [],
   "source": [
    "test_model = DisjointLinUCB(items_df, alpha=1.0)\n",
    "\n",
    "x = users_df.iloc[0, 1:]\n",
    "\n",
    "pred = test_model.predict(x)\n",
    "test_model.arms[prediction].update_arm(0, x)\n",
    "pred = test_model.predict(x)\n",
    "\n",
    "# не забудьте with ties broken arbitrarily\n",
    "assert prediction2 != prediction"
   ]
  },
  {
   "cell_type": "code",
   "execution_count": null,
   "id": "c798d328",
   "metadata": {},
   "outputs": [],
   "source": [
    "### YOUR CODE HERE: инициализация модели\n",
    "# model = \n",
    "###"
   ]
  },
  {
   "cell_type": "markdown",
   "id": "a62446d5",
   "metadata": {},
   "source": [
    "#### Инициализация функции отклика"
   ]
  },
  {
   "cell_type": "code",
   "execution_count": null,
   "id": "fb94f498",
   "metadata": {},
   "outputs": [],
   "source": [
    "context_model = TaskTwoResponse(\n",
    "    spark, boost_df_path='response_models/data/boosting_response_df.parquet', seed=SEED\n",
    ")"
   ]
  },
  {
   "cell_type": "markdown",
   "id": "2638b8f2",
   "metadata": {},
   "source": [
    "#### Цикл симуляции"
   ]
  },
  {
   "cell_type": "code",
   "execution_count": null,
   "id": "98db58ab",
   "metadata": {},
   "outputs": [],
   "source": [
    "# # если вы запустили цикл симуляции и остановили его до окончания выполнения, выполните unpersist датафреймов\n",
    "# current_users.unpersist()\n",
    "# if log is not None:\n",
    "#     log.unpersist()\n",
    "# recs.unpersist()\n",
    "# true_resp.unpersist()\n",
    "# train_log.unpersist()"
   ]
  },
  {
   "cell_type": "code",
   "execution_count": null,
   "id": "f484ced0",
   "metadata": {},
   "outputs": [],
   "source": [
    "metrics = []\n",
    "for i in tqdm.auto.tqdm(range(NUM_ITER)):\n",
    "    print(f'Iteration {i} started')\n",
    "    iter_time = time.time()\n",
    "    # выбираем пользователей, которые делают покупки на данной итерации\n",
    "    current_users = sim.sample_users(0.1).cache()\n",
    "    # получаем историю их взаимодействия с симулятором в прошлом\n",
    "    log = sim.get_log(current_users)\n",
    "\n",
    "    ### YOUR CODE HERE: порекомендуйте top-K товаров для каждого пользователя из current_users\n",
    "    raise NotImplementedError\n",
    "    ###\n",
    "\n",
    "    assert (recs\n",
    "            .groupBy('user_idx')\n",
    "            .agg(sf.count(\"item_idx\").alias(\"num_items\"))\n",
    "            .filter(sf.col(\"num_items\") == sf.lit(K))\n",
    "            .count() \n",
    "            == \n",
    "            current_users.count()\n",
    "           )\n",
    "\n",
    "    # получаем отклики на рекомендации\n",
    "    true_resp = sim.sample_responses(\n",
    "        recs_df=recs,\n",
    "        user_features=current_users,\n",
    "        item_features=items,\n",
    "        action_models=context_model,\n",
    "    ).select('user_idx', 'item_idx', 'relevance', 'response').cache()\n",
    "\n",
    "    # записываем историю взаимодействия пользователей с рекомендательной системой на этой итерации\n",
    "    sim.update_log(true_resp, iteration=i)\n",
    "    \n",
    "    # оцениваем качество\n",
    "    metrics.append(calc_metric(true_resp))\n",
    "\n",
    "    ### YOUR CODE HERE: дообучите рекомендательную модель на новых данных\n",
    "    raise NotImplementedError\n",
    "    ###\n",
    "\n",
    "    current_users.unpersist()\n",
    "    if log is not None:\n",
    "        log.unpersist()\n",
    "    recs.unpersist()\n",
    "    true_resp.unpersist()\n",
    "    \n",
    "    plot_metric(metrics)\n",
    "    print(f'Iteration {i} finished in {time.time() - iter_time} sec.')"
   ]
  },
  {
   "cell_type": "markdown",
   "id": "60c8ebc1-2b6e-4ee5-b109-15223003dbc3",
   "metadata": {
    "cellId": "88e22p9mr9l14b1w99sb",
    "execution_id": "39f72a9b-e28c-4ae8-8c63-9f1dfc59721a"
   },
   "source": [
    "## Финальный результат"
   ]
  },
  {
   "cell_type": "code",
   "execution_count": null,
   "id": "de7e7917",
   "metadata": {},
   "outputs": [],
   "source": [
    "### YOUR CODE HERE: порекомендуйте top-K товаров для каждого пользователя из current_users\n",
    "recs = model.predict(\n",
    "    log=sim.log,\n",
    "    k=K,\n",
    "    users=users,\n",
    "    items=items,\n",
    "    filter_seen_items=False\n",
    ").cache()\n",
    "###\n",
    "\n",
    "assert (recs\n",
    "        .groupBy('user_idx')\n",
    "        .agg(sf.count(\"item_idx\").alias(\"num_items\"))\n",
    "        .filter(sf.col(\"num_items\") == sf.lit(K))\n",
    "        .count() == users.count()\n",
    "       )"
   ]
  },
  {
   "cell_type": "code",
   "execution_count": null,
   "id": "c59f8132",
   "metadata": {},
   "outputs": [],
   "source": [
    "# получаем отклики на рекомендации\n",
    "true_resp = sim.sample_responses(\n",
    "    recs_df=recs,\n",
    "    user_features=users,\n",
    "    item_features=items,\n",
    "    action_models=response_model\n",
    ").cache()\n",
    "\n",
    "# оцениваем качество\n",
    "print(f\"Среднее число купленных товаров на пользователя после обучения модели = {calc_metric(true_resp)}\")"
   ]
  },
  {
   "cell_type": "code",
   "execution_count": null,
   "id": "a34c4016",
   "metadata": {},
   "outputs": [],
   "source": [
    "recs.unpersist()\n",
    "true_resp.unpersist();"
   ]
  },
  {
   "cell_type": "markdown",
   "id": "b1045aed",
   "metadata": {},
   "source": [
    "# Исследовательские задачки"
   ]
  },
  {
   "cell_type": "markdown",
   "id": "804a8185",
   "metadata": {},
   "source": [
    "1. Реализуйте алгоритм disjoint LinUCB, замерьте качество на симуляторе\n",
    "2. Проанализируйте влияние контекста на рекомендации\n",
    "- Сравните среднее число кликов, достигаемое к последней итерации алгоритмами, оцените влияние гиперпараметров\n",
    "- Увеличивают ли метрику признаки айтемов?\n",
    "- Визуализируйте веса разных признаков\n",
    "- Для каждого айтема визуализируйте оценку награды на каждой итерации\n",
    "- Какой item наиболее часто рекомендуется, насколько это логично?\n",
    "\n",
    "---\n",
    "\n",
    "---\n",
    "\n",
    "3. Предложите дополнительные методы визуализации. \n",
    "Ссылки для вдохновения:\n",
    "\n",
    "- https://gdmarmerola.github.io/ts-for-bernoulli-bandit\n",
    "- https://gdmarmerola.github.io/ts-for-contextual-bandits\n",
    "\n",
    "4. Попробуйте больше контекстуальных моделей\n",
    "\n",
    "- Hybrid LinUCB\n",
    "- [hLinUCB](https://www.cs.virginia.edu/~hw5x/paper/lfp1145-Wang.pdf)\n",
    "- ..."
   ]
  },
  {
   "cell_type": "code",
   "execution_count": null,
   "id": "7cf48422",
   "metadata": {},
   "outputs": [],
   "source": []
  }
 ],
 "metadata": {
  "kernelspec": {
   "display_name": "Python [conda env:sim4rec_from_opensource]",
   "language": "python",
   "name": "conda-env-sim4rec_from_opensource-py"
  },
  "language_info": {
   "codemirror_mode": {
    "name": "ipython",
    "version": 3
   },
   "file_extension": ".py",
   "mimetype": "text/x-python",
   "name": "python",
   "nbconvert_exporter": "python",
   "pygments_lexer": "ipython3",
   "version": "3.9.16"
  },
  "notebookId": "adf09168-546e-46ba-8f2b-fc5d5910f3b6",
  "notebookPath": "sources/sim4rec/sber-simulator-main/task_3.ipynb"
 },
 "nbformat": 4,
 "nbformat_minor": 5
}
